{
 "cells": [
  {
   "cell_type": "code",
   "execution_count": 1,
   "metadata": {},
   "outputs": [],
   "source": [
    "import numpy as np\n",
    "import pandas as pd\n",
    "from sklearn import linear_model\n",
    "from sklearn.decomposition import PCA\n",
    "from sklearn.model_selection import KFold\n",
    "from sklearn.metrics import r2_score, mean_squared_error\n",
    "\n",
    "# load trajectories\n",
    "ca_trajectories = np.loadtxt(\"canorm_tracjectories.csv\", delimiter=\",\")\n",
    "# load gene expression\n",
    "gene_exp = pd.read_csv(\"../../data/vol_adjusted_genes_transpose.txt\", delimiter=\"\\t\")"
   ]
  },
  {
   "cell_type": "code",
   "execution_count": 2,
   "metadata": {
    "tags": []
   },
   "outputs": [],
   "source": [
    "# get features from calcium trajectories\n",
    "ca_peak = np.amax(ca_trajectories, axis=1)\n",
    "\n",
    "# run PCA on gene expression\n",
    "pca = PCA(n_components=10)\n",
    "reduced_gene_exp = pca.fit_transform(gene_exp.T)\n",
    "\n",
    "# gather all features\n",
    "X = np.hstack((ca_peak[:, np.newaxis], reduced_gene_exp))\n",
    "\n",
    "# get targets\n",
    "y = ca_trajectories[:, 800]"
   ]
  },
  {
   "cell_type": "code",
   "execution_count": 3,
   "metadata": {
    "tags": []
   },
   "outputs": [
    {
     "name": "stdout",
     "output_type": "stream",
     "text": [
      "Model metric:\n",
      "R^2 score: 0.2817605812012788\n",
      "Mean squared error: 0.02890398763984966\n",
      "\n",
      "Model metric:\n",
      "R^2 score: 0.19283753277135307\n",
      "Mean squared error: 0.03296646234840574\n",
      "\n",
      "Model metric:\n",
      "R^2 score: 0.27576539121622723\n",
      "Mean squared error: 0.03254536610676437\n",
      "\n",
      "Model metric:\n",
      "R^2 score: 0.22777871086816193\n",
      "Mean squared error: 0.0310521710850309\n",
      "\n",
      "Model metric:\n",
      "R^2 score: 0.21119261842511194\n",
      "Mean squared error: 0.032356499564020175\n",
      "\n"
     ]
    }
   ],
   "source": [
    "# learn model with k-fold\n",
    "kf = KFold(n_splits=5)\n",
    "kf.get_n_splits(X)\n",
    "\n",
    "power = 0\n",
    "alpha = 0.1\n",
    "for train_index, test_index in kf.split(X):\n",
    "    X_train, X_test = X[train_index], X[test_index]\n",
    "    y_train, y_test = y[train_index], y[test_index]\n",
    "\n",
    "    reg = linear_model.TweedieRegressor(power=power, alpha=alpha)\n",
    "    reg.fit(X_train, y_train)\n",
    "    y_pred = reg.predict(X_test)\n",
    "\n",
    "    print(\"Model metric:\")\n",
    "    print(\"R^2 score:\", r2_score(y_test, y_pred))\n",
    "    print(\"Mean squared error:\", mean_squared_error(y_test, y_pred))\n",
    "    print()\n"
   ]
  }
 ],
 "metadata": {
  "kernelspec": {
   "display_name": "Python 3",
   "language": "python",
   "name": "python3"
  },
  "language_info": {
   "codemirror_mode": {
    "name": "ipython",
    "version": 3
   },
   "file_extension": ".py",
   "mimetype": "text/x-python",
   "name": "python",
   "nbconvert_exporter": "python",
   "pygments_lexer": "ipython3",
   "version": "3.6.10"
  }
 },
 "nbformat": 4,
 "nbformat_minor": 2
}
