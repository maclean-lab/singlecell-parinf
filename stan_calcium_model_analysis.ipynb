{
 "cells": [
  {
   "cell_type": "markdown",
   "metadata": {},
   "source": [
    "# Analysis of signle-cell Ca<sup>2+</sup> pathway model with parameters sampled from NUTS"
   ]
  },
  {
   "cell_type": "code",
   "execution_count": 1,
   "metadata": {},
   "outputs": [],
   "source": [
    "import os.path\n",
    "import json\n",
    "\n",
    "import numpy as np\n",
    "\n",
    "import calcium_models\n",
    "from stan_helpers import StanSessionAnalyzer, load_trajectories"
   ]
  },
  {
   "cell_type": "markdown",
   "metadata": {},
   "source": [
    "## Load sampled parameters and Ca<sup>2+</sup> trajectory"
   ]
  },
  {
   "cell_type": "code",
   "execution_count": 2,
   "metadata": {},
   "outputs": [],
   "source": [
    "stan_run = 'cell-chain-example'\n",
    "cell_id = 5106\n",
    "\n",
    "# load metadata\n",
    "with open('stan_run_meta.json', 'r') as f:\n",
    "    stan_run_meta = json.load(f)\n",
    "\n",
    "result_dir = os.path.join(stan_run_meta[stan_run]['output_dir'], 'samples',\n",
    "                          f'cell-{cell_id:04d}')"
   ]
  },
  {
   "cell_type": "code",
   "execution_count": 3,
   "metadata": {},
   "outputs": [],
   "source": [
    "# filter parameters\n",
    "param_mask = stan_run_meta[stan_run]['param_mask']\n",
    "param_names = [calcium_models.param_names[i + 1]\n",
    "               for i, mask in enumerate(param_mask) if mask == '1']\n",
    "param_names = ['sigma'] + param_names"
   ]
  },
  {
   "cell_type": "code",
   "execution_count": 4,
   "metadata": {},
   "outputs": [],
   "source": [
    "# get Calcium trajectory\n",
    "t0 = 200\n",
    "y, y0_ca, ts = load_trajectories(t0, filter_type='moving_average',\n",
    "    moving_average_window=20, downsample_offset=300)\n",
    "y = y[cell_id, :]\n",
    "y0_ca = y0_ca[cell_id]\n",
    "y0 = np.array([0, 0, 0.7, y0_ca])\n",
    "y_ref = [None, None, None, y]"
   ]
  },
  {
   "cell_type": "code",
   "execution_count": 5,
   "metadata": {},
   "outputs": [],
   "source": [
    "# get ODE function\n",
    "calcium_ode = getattr(\n",
    "    calcium_models, f'calcium_ode_{stan_run_meta[stan_run][\"ode_variant\"]}')\n",
    "\n",
    "var_names = ['PLC', 'IP3', 'h', 'Ca']"
   ]
  },
  {
   "cell_type": "code",
   "execution_count": 6,
   "metadata": {},
   "outputs": [],
   "source": [
    "# initialize analyzer\n",
    "analyzer = StanSessionAnalyzer(result_dir, sample_source='arvis_inf_data',\n",
    "                               param_names=param_names)"
   ]
  },
  {
   "cell_type": "markdown",
   "metadata": {},
   "source": [
    "## Perform analyses\n",
    "The code below generates figures saved in `./cell_chain_example/samples/cell-5106`. Generated figures include:\n",
    "- Trajectories of all variables simulated from sampled parameters\n",
    "- Trace plot of all parameters\n",
    "- Violin plots of all parameters\n",
    "- Pairs plots of all pairs of parameters\n",
    "- Log posterior likelihood during sampling"
   ]
  },
  {
   "cell_type": "code",
   "execution_count": 7,
   "metadata": {},
   "outputs": [
    {
     "name": "stdout",
     "output_type": "stream",
     "text": [
      "Simulating trajectories from chain 0...\n"
     ]
    },
    {
     "name": "stderr",
     "output_type": "stream",
     "text": [
      "100%|██████████| 1000/1000 [00:28<00:00, 34.97it/s]\n"
     ]
    },
    {
     "name": "stdout",
     "output_type": "stream",
     "text": [
      "Simulating trajectories from chain 1...\n"
     ]
    },
    {
     "name": "stderr",
     "output_type": "stream",
     "text": [
      "100%|██████████| 1000/1000 [00:28<00:00, 34.73it/s]\n"
     ]
    },
    {
     "name": "stdout",
     "output_type": "stream",
     "text": [
      "Simulating trajectories from chain 2...\n"
     ]
    },
    {
     "name": "stderr",
     "output_type": "stream",
     "text": [
      "100%|██████████| 1000/1000 [00:28<00:00, 34.82it/s]\n"
     ]
    },
    {
     "name": "stdout",
     "output_type": "stream",
     "text": [
      "Simulating trajectories from chain 3...\n"
     ]
    },
    {
     "name": "stderr",
     "output_type": "stream",
     "text": [
      "100%|██████████| 1000/1000 [00:28<00:00, 35.10it/s]\n"
     ]
    },
    {
     "name": "stdout",
     "output_type": "stream",
     "text": [
      "Making trace plot for chain 0...\n",
      "Making violin plot for chain 0...\n",
      "Making pairs plot for chain 0...\n",
      "Making trace plot for chain 1...\n",
      "Making violin plot for chain 1...\n",
      "Making pairs plot for chain 1...\n",
      "Making trace plot for chain 2...\n",
      "Making violin plot for chain 2...\n",
      "Making pairs plot for chain 2...\n",
      "Making trace plot for chain 3...\n",
      "Making violin plot for chain 3...\n",
      "Making pairs plot for chain 3...\n",
      "Plotting log posterior likelihoods of all chains...\n"
     ]
    },
    {
     "data": {
      "text/plain": [
       "<Figure size 432x288 with 0 Axes>"
      ]
     },
     "metadata": {},
     "output_type": "display_data"
    }
   ],
   "source": [
    "_ = analyzer.simulate_chains(calcium_ode, 0, ts, y0, y_ref=y_ref,\n",
    "                             show_progress=True, var_names=var_names)\n",
    "analyzer.plot_parameters()\n",
    "analyzer.plot_log_posteriors()"
   ]
  }
 ],
 "metadata": {
  "interpreter": {
   "hash": "c7a65cedd992e63e2fc4566f131b2f030710a45722cd2feb82210f3c1bf9dd34"
  },
  "kernelspec": {
   "display_name": "Python 3.8.5 ('pystan')",
   "language": "python",
   "name": "python3"
  },
  "language_info": {
   "codemirror_mode": {
    "name": "ipython",
    "version": 3
   },
   "file_extension": ".py",
   "mimetype": "text/x-python",
   "name": "python",
   "nbconvert_exporter": "python",
   "pygments_lexer": "ipython3",
   "version": "3.8.5"
  },
  "orig_nbformat": 4
 },
 "nbformat": 4,
 "nbformat_minor": 2
}
